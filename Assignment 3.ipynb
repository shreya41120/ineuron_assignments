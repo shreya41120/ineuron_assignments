{
 "cells": [
  {
   "cell_type": "markdown",
   "metadata": {},
   "source": [
    "#Write a Python Program to implement your own myreduce() function which works exactly\n",
    "like Python's built-in function reduce()\n"
   ]
  },
  {
   "cell_type": "code",
   "execution_count": 26,
   "metadata": {},
   "outputs": [],
   "source": [
    "\n",
    "\n",
    "def myreduce(func, seq):\n",
    "    result = seq[0]\n",
    "    for item in seq[1:]:\n",
    "         result = func(result, item)\n",
    "    return result\n",
    "            \n",
    "\n",
    "  \n",
    "\n"
   ]
  },
  {
   "cell_type": "code",
   "execution_count": 28,
   "metadata": {},
   "outputs": [
    {
     "name": "stdout",
     "output_type": "stream",
     "text": [
      "sum is 10\n"
     ]
    }
   ],
   "source": [
    "print (\"sum is \" + str(myreduce(lambda a,b : a+b,[1,2,3,4])))"
   ]
  },
  {
   "cell_type": "raw",
   "metadata": {},
   "source": [
    "# Write a Python program to implement your own myfilter() function which works exactly\n",
    " like Python's built-in function filter()"
   ]
  },
  {
   "cell_type": "code",
   "execution_count": 43,
   "metadata": {},
   "outputs": [],
   "source": [
    "def myfilter(func,my_list):\n",
    "    result=[]\n",
    "    for i in my_list:\n",
    "        if iseven (i):            \n",
    "            result.append(i)\n",
    "    return result\n",
    "\n",
    "def iseven (x):\n",
    "    if (x%2==0):\n",
    "        return True\n",
    "    else: \n",
    "        return False\n",
    "    \n",
    "        "
   ]
  },
  {
   "cell_type": "code",
   "execution_count": 44,
   "metadata": {},
   "outputs": [
    {
     "name": "stdout",
     "output_type": "stream",
     "text": [
      "Even no are[2, 4, 6]\n"
     ]
    }
   ],
   "source": [
    "print(\"Even no are\" +str(myfilter(iseven,[2,3,4,5,6])))"
   ]
  },
  {
   "cell_type": "raw",
   "metadata": {},
   "source": [
    " #Implement List comprehensions to produce the following lists.\n",
    "Write List comprehensions to produce the following Lists\n",
    "['A', 'C', 'A', 'D', 'G', 'I', ’L’, ‘ D’]\n",
    "['x', 'xx', 'xxx', 'xxxx', 'y', 'yy', 'yyy', 'yyyy', 'z', 'zz', 'zzz', 'zzzz']\n",
    "['x', 'y', 'z', 'xx', 'yy', 'zz', 'xxx', 'yyy', 'zzz', 'xxxx', 'yyyy', 'zzzz']\n",
    "[[2], [3], [4], [3], [4], [5], [4], [5], [6]] [[2, 3, 4, 5], [3, 4, 5, 6],\n",
    "[4, 5, 6, 7], [5, 6, 7, 8]]\n",
    "[(1, 1), (2, 1), (3, 1), (1, 2), (2, 2), (3, 2), (1, 3), (2, 3), (3, 3)]"
   ]
  },
  {
   "cell_type": "code",
   "execution_count": 45,
   "metadata": {},
   "outputs": [
    {
     "name": "stdout",
     "output_type": "stream",
     "text": [
      "ACADGILD = ['A', 'C', 'A', 'D', 'G', 'I', 'L', 'D']\n"
     ]
    }
   ],
   "source": [
    "word = \"ACADGILD\"\n",
    "alphabet_list = [ alphabet for alphabet in word ]\n",
    "print (\"ACADGILD = \" + str(alphabet_list))\n"
   ]
  },
  {
   "cell_type": "code",
   "execution_count": 46,
   "metadata": {},
   "outputs": [
    {
     "name": "stdout",
     "output_type": "stream",
     "text": [
      "['x','y','z'] =['x', 'xx', 'xxx', 'xxxx', 'y', 'yy', 'yyy', 'yyyy', 'z', 'zz', 'zzz', 'zzzz']\n"
     ]
    }
   ],
   "source": [
    "input_list =['x','y','z']\n",
    "result = [item*num for item in input_list for num in range(1,5)]\n",
    "print(\"['x','y','z'] =\" + str(result))"
   ]
  },
  {
   "cell_type": "code",
   "execution_count": 48,
   "metadata": {},
   "outputs": [
    {
     "name": "stdout",
     "output_type": "stream",
     "text": [
      "['x','y','z'] => ['x', 'y', 'z', 'xx', 'yy', 'zz', 'xxx', 'yyy', 'zzz', 'xxxx', 'yyyy', 'zzzz']\n"
     ]
    }
   ],
   "source": [
    "input_list =['x','y','z']\n",
    "result = [ item*num for num in range(1,5) for item in input_list ]\n",
    "print(\"['x','y','z'] => \" + str(result))"
   ]
  },
  {
   "cell_type": "code",
   "execution_count": 49,
   "metadata": {},
   "outputs": [
    {
     "name": "stdout",
     "output_type": "stream",
     "text": [
      "[2,3,4] =[[2], [3], [4], [3], [4], [5], [4], [5], [6]]\n"
     ]
    }
   ],
   "source": [
    "input_list =[2,3,4]\n",
    "result = [ [item+num] for item in input_list for num in range(0,3)]\n",
    "print(\"[2,3,4] =\" + str (result))"
   ]
  },
  {
   "cell_type": "code",
   "execution_count": 50,
   "metadata": {},
   "outputs": [
    {
     "name": "stdout",
     "output_type": "stream",
     "text": [
      "[2,3,4,5] =>[[2, 3, 4, 5], [3, 4, 5, 6], [4, 5, 6, 7], [5, 6, 7, 8]]\n"
     ]
    }
   ],
   "source": [
    "input_list = [2,3,4,5]\n",
    "result = [ [item+num for item in input_list] for num in range(0,4) ]\n",
    "print(\"[2,3,4,5] =>\" +  str(result))\n"
   ]
  },
  {
   "cell_type": "code",
   "execution_count": 51,
   "metadata": {},
   "outputs": [
    {
     "name": "stdout",
     "output_type": "stream",
     "text": [
      "[1,2,3] =>[(1, 1), (2, 1), (3, 1), (1, 2), (2, 2), (3, 2), (1, 3), (2, 3), (3, 3)]\n"
     ]
    }
   ],
   "source": [
    "input_list=[1,2,3]\n",
    "result = [ (b,a) for a in input_list for b in input_list]\n",
    "print(\"[1,2,3] =>\" +  str(result))\n"
   ]
  },
  {
   "cell_type": "code",
   "execution_count": null,
   "metadata": {},
   "outputs": [],
   "source": []
  }
 ],
 "metadata": {
  "kernelspec": {
   "display_name": "Python 3",
   "language": "python",
   "name": "python3"
  },
  "language_info": {
   "codemirror_mode": {
    "name": "ipython",
    "version": 3
   },
   "file_extension": ".py",
   "mimetype": "text/x-python",
   "name": "python",
   "nbconvert_exporter": "python",
   "pygments_lexer": "ipython3",
   "version": "3.7.6"
  }
 },
 "nbformat": 4,
 "nbformat_minor": 4
}
