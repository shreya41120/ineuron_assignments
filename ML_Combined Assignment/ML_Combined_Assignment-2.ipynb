{
 "cells": [
  {
   "cell_type": "markdown",
   "metadata": {},
   "source": [
    "### In this assignment students have to find the frequency of words in a webpage. User can use urllib and BeautifulSoup to extract text from webpage."
   ]
  },
  {
   "cell_type": "code",
   "execution_count": 1,
   "metadata": {},
   "outputs": [],
   "source": [
    "from bs4 import BeautifulSoup\n",
    "import urllib\n",
    "import nltk\n",
    "import requests\n",
    "import re"
   ]
  },
  {
   "cell_type": "code",
   "execution_count": 2,
   "metadata": {},
   "outputs": [],
   "source": [
    "response = urllib.request.urlopen('https://en.wikipedia.org/wiki/Avengers:_Endgame')\n",
    "html = response.read()\n",
    "raw = BeautifulSoup(html,\"html5lib\").get_text()"
   ]
  },
  {
   "cell_type": "code",
   "execution_count": 3,
   "metadata": {},
   "outputs": [
    {
     "name": "stderr",
     "output_type": "stream",
     "text": [
      "[nltk_data] Downloading package punkt to\n",
      "[nltk_data]     C:\\Users\\Shreenidhi\\AppData\\Roaming\\nltk_data...\n",
      "[nltk_data]   Unzipping tokenizers\\punkt.zip.\n"
     ]
    }
   ],
   "source": [
    "nltk.download('punkt')\n",
    "words = nltk.word_tokenize(raw)"
   ]
  },
  {
   "cell_type": "code",
   "execution_count": 4,
   "metadata": {},
   "outputs": [
    {
     "name": "stdout",
     "output_type": "stream",
     "text": [
      "the; 1009\n",
      "''; 953\n",
      "``; 401\n",
      "on; 308\n",
      "and; 297\n",
      "in; 286\n",
      "from; 281\n",
      "of; 275\n",
      "to; 226\n",
      "original; 218\n",
      "avengers; 216\n",
      "archived; 216\n",
      "retrieved; 216\n",
      "april; 202\n",
      "endgame; 186\n",
      "'s; 170\n",
      "film; 166\n",
      "as; 142\n",
      "may; 135\n",
      "for; 116\n",
      "with; 99\n",
      "marvel; 99\n",
      "'avengers; 88\n",
      "was; 85\n",
      "that; 81\n",
      "war; 80\n",
      "million; 77\n",
      "infinity; 76\n",
      "films; 73\n",
      ".mw-parser-output; 69\n"
     ]
    }
   ],
   "source": [
    "words = [word for word in words if len(word) > 1]\n",
    "\n",
    "# Removing any numbers present in our text\n",
    "\n",
    "words = [word for word in words if not word.isnumeric()]\n",
    "\n",
    "# Lowercase all words (default_stopwords are lowercase too)\n",
    "\n",
    "words = [word.lower() for word in words]\n",
    "\n",
    "# Calculating frequency distribution\n",
    "\n",
    "fdist = nltk.FreqDist(words)\n",
    "\n",
    "# Printing the top 30 words with their frequency\n",
    "\n",
    "for word, frequency in fdist.most_common(30):\n",
    "    print(u'{}; {}'.format(word, frequency))"
   ]
  },
  {
   "cell_type": "code",
   "execution_count": null,
   "metadata": {},
   "outputs": [],
   "source": []
  }
 ],
 "metadata": {
  "kernelspec": {
   "display_name": "Python 3",
   "language": "python",
   "name": "python3"
  },
  "language_info": {
   "codemirror_mode": {
    "name": "ipython",
    "version": 3
   },
   "file_extension": ".py",
   "mimetype": "text/x-python",
   "name": "python",
   "nbconvert_exporter": "python",
   "pygments_lexer": "ipython3",
   "version": "3.7.6"
  }
 },
 "nbformat": 4,
 "nbformat_minor": 4
}
